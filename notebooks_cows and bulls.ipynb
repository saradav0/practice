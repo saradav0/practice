{
 "metadata": {
  "language_info": {
   "codemirror_mode": {
    "name": "python",
    "version": 3
   },
   "file_extension": ".py",
   "mimetype": "text/x-python",
   "name": "python",
   "nbconvert_exporter": "python",
   "pygments_lexer": "ipython3",
   "version": "3.8"
  },
  "kernelspec": {
   "name": "python",
   "display_name": "Python (Pyodide)",
   "language": "python"
  }
 },
 "nbformat_minor": 4,
 "nbformat": 4,
 "cells": [
  {
   "cell_type": "markdown",
   "source": [
    "cows and bulls"
   ],
   "metadata": {}
  },
  {
   "cell_type": "code",
   "source": [
    "n1 = random.randint( 1, 9 )\n",
    "n2 = random.randint( 1, 9 )\n",
    "while ( n2 == n1 ):\n",
    "    n2 = random.randint( 1, 9 )\n",
    "n3 = random.randint( 1, 9 )\n",
    "while ( (n3 == n1) or (n3 == n2) ):\n",
    "    n3 = random.randint( 1, 9 )\n",
    "n4 = random.randint( 1, 9 )\n",
    "while ( (n4 == n1) or (n4 == n2) or (n4 == n3) ):\n",
    "    n4 = random.randint( 1, 9 )\n",
    "\n",
    "number=str(n1)+str(n2)+str(n3)+str(n4)\n",
    "print( number )\n",
    "\n",
    "bulls=0\n",
    "\n",
    "while ( bulls < 4 ):\n",
    "    userNumber = input( \"Insert number: \" )\n",
    "    if ( userNumber == \"0\" ):\n",
    "        break;\n",
    "    bulls=0\n",
    "    cows=0\n",
    "    for i in range( len(number) ):\n",
    "        if ( number[i] == userNumber[i] ):\n",
    "            bulls += 1\n",
    "        for j in range( len(userNumber) ):\n",
    "            if ( (number[i] == userNumber[j]) and (i != j) ):\n",
    "                cows += 1\n",
    "\n",
    "    print( \"bulls: \", bulls )\n",
    "    if ( bulls < 4 ):\n",
    "        print( \"cows : \", cows )\n"
   ],
   "metadata": {},
   "execution_count": null,
   "outputs": []
  }
 ]
}
