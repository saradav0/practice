{
 "metadata": {
  "language_info": {
   "codemirror_mode": {
    "name": "python",
    "version": 3
   },
   "file_extension": ".py",
   "mimetype": "text/x-python",
   "name": "python",
   "nbconvert_exporter": "python",
   "pygments_lexer": "ipython3",
   "version": "3.8"
  },
  "kernelspec": {
   "name": "python",
   "display_name": "Python (Pyodide)",
   "language": "python"
  }
 },
 "nbformat_minor": 4,
 "nbformat": 4,
 "cells": [
  {
   "cell_type": "markdown",
   "source": [
    "Задания по теме: Логические переменные, операции сравнения, условный оператор\n"
   ],
   "metadata": {}
  },
  {
   "cell_type": "code",
   "source": [
    "# Задача 1:\n",
    "s1 = input('Введите первую строку:')\n",
    "a = int(input('Введите целое число:'))\n",
    "s2 = input('Введите вторую строку:')\n",
    "# print(len(s))\n",
    "if s1 and not a - 5 and not s2:\n",
    "   print('Правильный ответ')\n",
    "else:\n",
    "   print('Ответ неправильный, попробуйте еще раз.')\n"
   ],
   "metadata": {
    "trusted": true
   },
   "execution_count": 1,
   "outputs": [
    {
     "ename": "<class 'TypeError'>",
     "evalue": "int() argument must be a string, a bytes-like object or a real number, not 'PyodideFuture'",
     "traceback": [
      "\u001B[0;31m---------------------------------------------------------------------------\u001B[0m",
      "\u001B[0;31mTypeError\u001B[0m                                 Traceback (most recent call last)",
      "Cell \u001B[0;32mIn[1], line 3\u001B[0m\n\u001B[1;32m      1\u001B[0m \u001B[38;5;66;03m# Задача 1:\u001B[39;00m\n\u001B[1;32m      2\u001B[0m s1 \u001B[38;5;241m=\u001B[39m \u001B[38;5;28minput\u001B[39m(\u001B[38;5;124m'\u001B[39m\u001B[38;5;124mВведите первую строку:\u001B[39m\u001B[38;5;124m'\u001B[39m)\n\u001B[0;32m----> 3\u001B[0m a \u001B[38;5;241m=\u001B[39m \u001B[38;5;28;43mint\u001B[39;49m\u001B[43m(\u001B[49m\u001B[38;5;28;43minput\u001B[39;49m\u001B[43m(\u001B[49m\u001B[38;5;124;43m'\u001B[39;49m\u001B[38;5;124;43mВведите целое число:\u001B[39;49m\u001B[38;5;124;43m'\u001B[39;49m\u001B[43m)\u001B[49m\u001B[43m)\u001B[49m\n\u001B[1;32m      4\u001B[0m s2 \u001B[38;5;241m=\u001B[39m \u001B[38;5;28minput\u001B[39m(\u001B[38;5;124m'\u001B[39m\u001B[38;5;124mВведите вторую строку:\u001B[39m\u001B[38;5;124m'\u001B[39m)\n\u001B[1;32m      5\u001B[0m \u001B[38;5;66;03m# print(len(s))\u001B[39;00m\n",
      "\u001B[0;31mTypeError\u001B[0m: int() argument must be a string, a bytes-like object or a real number, not 'PyodideFuture'"
     ],
     "output_type": "error"
    }
   ]
  },
  {
   "cell_type": "markdown",
   "source": [
    "1.2) Проверить выполнение следующих логических тождеств (законов де Моргана) для всех значений А и В (FF, FT, TF, TT):"
   ],
   "metadata": {}
  },
  {
   "cell_type": "code",
   "source": [
    "def DeMorgan1( a, b ):\n",
    "    return (not(a and b)) == ((not a) or (not b))\n",
    "\n",
    "def DeMorgan2( a, b ):\n",
    "    return (not(a or b)) == ((not a) and (not b))\n",
    "\n",
    "\n",
    "\n",
    "print (DeMorgan1( False, False ))\n",
    "print (DeMorgan1( False, True ))\n",
    "print (DeMorgan1( True, False ))\n",
    "print (DeMorgan1( True, True ))\n",
    "print()\n",
    "print (DeMorgan2( False, False ))\n",
    "print (DeMorgan2( False, True ))\n",
    "print (DeMorgan2( True, False ))\n",
    "print (DeMorgan2( True, True ))"
   ],
   "metadata": {},
   "execution_count": null,
   "outputs": []
  },
  {
   "cell_type": "markdown",
   "source": [
    "2)"
   ],
   "metadata": {}
  },
  {
   "cell_type": "code",
   "source": [
    "for i in range(-5, 7):\n",
    "    y = bool(x**2 > 6-x)\n",
    "    if x > 0:\n",
    "        print(f'x = {x}:{y}')"
   ],
   "metadata": {},
   "execution_count": null,
   "outputs": []
  },
  {
   "cell_type": "markdown",
   "source": [
    "3."
   ],
   "metadata": {}
  },
  {
   "cell_type": "code",
   "source": [
    "0 <= b == 2 <= a <= c < 5"
   ],
   "metadata": {},
   "execution_count": null,
   "outputs": []
  },
  {
   "cell_type": "markdown",
   "source": [
    "4."
   ],
   "metadata": {}
  },
  {
   "cell_type": "code",
   "source": [
    "s1 = 'stringa'\n",
    "s2 = 'Stringa'\n",
    "s3 = 'stringa'\n",
    "s4 = 'stringlong'\n",
    "s5 = 'stringa'\n",
    "s6 = 'stringa'\n",
    "s7 = '_stringa'\n",
    "\n",
    "print ( s2 < s7 < s1 == s3 == s5 == s6 < s4 )\n",
    "\n",
    "\n"
   ],
   "metadata": {},
   "execution_count": null,
   "outputs": []
  },
  {
   "cell_type": "markdown",
   "source": [
    "5."
   ],
   "metadata": {}
  },
  {
   "cell_type": "code",
   "source": [
    "x  = input('x = ')\n",
    "if '!!!' in x:\n",
    "    print('exclaim')\n",
    "if x.startswith('!!!'):\n",
    "    print('Nota bene')\n",
    "if '???' in x:\n",
    "    print('question')\n",
    "else:\n",
    "    print(\" \")\n"
   ],
   "metadata": {},
   "execution_count": null,
   "outputs": []
  },
  {
   "cell_type": "markdown",
   "source": [
    "7."
   ],
   "metadata": {}
  },
  {
   "cell_type": "code",
   "source": [
    "x = 'banana monkey'\n",
    "y = 'orangutan'\n",
    "friend = x if 'banana' in x else y \n",
    "print(\"x:\", friend)"
   ],
   "metadata": {},
   "execution_count": null,
   "outputs": []
  },
  {
   "cell_type": "markdown",
   "source": [
    "Циклы\n",
    "Семинар 4.\n",
    "1) С помощью цикла for сравнить две произвольные строки и вывести строку, состоящую из общих символов исходных строк"
   ],
   "metadata": {}
  },
  {
   "cell_type": "code",
   "source": [
    "str1 = \"Hello, world!\"\n",
    "str2 = \"Hello, words!\"\n",
    "\n",
    "minimum_lenght = min(len(str1), len(str2))\n",
    "common_letters = []\n",
    "\n",
    "for i in range(minimum_lenght):\n",
    "    if str1[i] == str2[i]:\n",
    "        common_letters.append(str1[i])\n",
    "stringa_comune = ''.join(common_letters)\n",
    "print(common_letters)"
   ],
   "metadata": {},
   "execution_count": null,
   "outputs": []
  },
  {
   "cell_type": "markdown",
   "source": [
    "2."
   ],
   "metadata": {}
  },
  {
   "cell_type": "code",
   "source": [
    "def double_factorial(n):\n",
    "    result = 1\n",
    "    while n > 0:\n",
    "        result *= n\n",
    "        n -= 2\n",
    "    return result\n",
    "number = 7\n",
    "result = double_factorial(number)\n",
    "print(f'double factorial {number}!! = {result}')\n"
   ],
   "metadata": {},
   "execution_count": null,
   "outputs": []
  },
  {
   "cell_type": "markdown",
   "source": [
    "3."
   ],
   "metadata": {}
  },
  {
   "cell_type": "code",
   "source": [
    "def double_factorial(n):\n",
    "    result = 1\n",
    "    for i in range(n, 0, -2):\n",
    "        result *= i\n",
    "    return result\n",
    "\n",
    "number = 7\n",
    "result = double_factorial(number)\n",
    "print(f\"double factorial {number}!! = {result}\")"
   ],
   "metadata": {},
   "execution_count": null,
   "outputs": []
  },
  {
   "cell_type": "markdown",
   "source": [
    "4."
   ],
   "metadata": {}
  },
  {
   "cell_type": "code",
   "source": [
    "a = 8\n",
    "b = 50\n",
    "\n",
    "for num in range(a, b + 1):\n",
    "    for i in range(2, int(num ** 0.5) + 1):\n",
    "        if num % i == 0:\n",
    "            break\n",
    "    else:\n",
    "        if num > 1:\n",
    "            print(num)"
   ],
   "metadata": {},
   "execution_count": null,
   "outputs": []
  },
  {
   "cell_type": "markdown",
   "source": [
    "6."
   ],
   "metadata": {}
  },
  {
   "cell_type": "code",
   "source": [
    "x = \"Hello world\"\n",
    "result = \"\"\n",
    "lenght = len(x)\n",
    "\n",
    "for i in range(1, lenght + 1):\n",
    "    if lenght % i == 0:\n",
    "        result += x[i - 1]\n",
    "print(result)\n"
   ],
   "metadata": {},
   "execution_count": null,
   "outputs": []
  },
  {
   "cell_type": "markdown",
   "source": [
    "5.\n",
    "Регулярные выражения. Задания\n",
    "1) Дана строка 'aaa--bbb==ccc__ddd'. Написать регулярное выражение для разбивки строки на список ['aaa','bbb','ccc','ddd']."
   ],
   "metadata": {}
  },
  {
   "cell_type": "code",
   "source": [
    "import re\n",
    "x = 'aaa--bbb==ccc__ddd'\n",
    "result = re.split(r'[-=]+', x)\n",
    "\n",
    "result = list(filter(None, result))\n",
    "print(result)"
   ],
   "metadata": {},
   "execution_count": null,
   "outputs": []
  },
  {
   "cell_type": "markdown",
   "source": [
    "2."
   ],
   "metadata": {}
  },
  {
   "cell_type": "code",
   "source": [
    "x = 'Yesterday, All my troubles seemed so far away'\n",
    "print(x[0:9])"
   ],
   "metadata": {},
   "execution_count": null,
   "outputs": []
  },
  {
   "cell_type": "markdown",
   "source": [
    "3."
   ],
   "metadata": {}
  },
  {
   "cell_type": "code",
   "source": [
    "x = 'Yesterday, All my troubles seemed so far away'\n",
    "print(x[-5:-1])"
   ],
   "metadata": {},
   "execution_count": null,
   "outputs": []
  },
  {
   "cell_type": "markdown",
   "source": [
    "4."
   ],
   "metadata": {}
  },
  {
   "cell_type": "code",
   "source": [
    "x = 'Yesterday, All my troubles seemed so far away'\n",
    "vocal = 'a', 'e', 'i', 'o', 'u'\n",
    "if vocals in x:\n",
    "    print(vocals)"
   ],
   "metadata": {},
   "execution_count": null,
   "outputs": []
  },
  {
   "cell_type": "markdown",
   "source": [
    "Задачи по спискам\n",
    "Семинар 17.10.2023\n",
    "1) Создать список из чисел 31, 24, 17 тремя способами: перечисление, на основе другого списка (по сути, создать копию списка), с помощью функции range. Вывести списки на печать. Создать и вывести список, состоящий из полученных списков."
   ],
   "metadata": {}
  },
  {
   "cell_type": "code",
   "source": [
    "list = [31, 24, 17]\n",
    "original_list = [31, 24, 17]\n",
    "list2 = list(original_list)\n",
    "list3 = list(range(31, 16, -7))\n",
    "combined_list = [list1, list2, list3]\n",
    "\n",
    "print(\"spisok 1:\", list1)\n",
    "print(\"spisok 2:\", list2)\n",
    "print(\"spisok 3:\", list3)\n",
    "print(\"v:\", combinad_list)"
   ],
   "metadata": {},
   "execution_count": null,
   "outputs": []
  },
  {
   "cell_type": "markdown",
   "source": [
    "2.1"
   ],
   "metadata": {}
  },
  {
   "cell_type": "code",
   "source": [
    "x = input(\"x = \")\n",
    "charachter_list = list(x)\n",
    "\n",
    "print(\"list of simbols:\", characther_list)"
   ],
   "metadata": {},
   "execution_count": null,
   "outputs": []
  },
  {
   "cell_type": "markdown",
   "source": [
    "2.2"
   ],
   "metadata": {}
  },
  {
   "cell_type": "code",
   "source": [
    "c = input(\"c = \")\n",
    "word_list = user_input.split()\n",
    "\n",
    "print('list of words:', word_list)"
   ],
   "metadata": {},
   "execution_count": null,
   "outputs": []
  },
  {
   "cell_type": "code",
   "source": [],
   "metadata": {},
   "execution_count": null,
   "outputs": []
  }
 ]
}
