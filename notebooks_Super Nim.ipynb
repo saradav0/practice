{
 "metadata": {
  "language_info": {
   "codemirror_mode": {
    "name": "python",
    "version": 3
   },
   "file_extension": ".py",
   "mimetype": "text/x-python",
   "name": "python",
   "nbconvert_exporter": "python",
   "pygments_lexer": "ipython3",
   "version": "3.8"
  },
  "kernelspec": {
   "name": "python",
   "display_name": "Python (Pyodide)",
   "language": "python"
  }
 },
 "nbformat_minor": 4,
 "nbformat": 4,
 "cells": [
  {
   "cell_type": "markdown",
   "source": [
    "Super Nim "
   ],
   "metadata": {}
  },
  {
   "cell_type": "code",
   "source": [
    "import random;\n",
    "\n",
    "\n",
    "field = [\n",
    "            [' ', ' ', ' ', ' ', ' ', ' ', ' ', ' '],\n",
    "            [' ', ' ', ' ', ' ', ' ', ' ', ' ', ' '],\n",
    "            [' ', ' ', ' ', ' ', ' ', ' ', ' ', ' '],\n",
    "            [' ', ' ', ' ', ' ', ' ', ' ', ' ', ' '],\n",
    "            [' ', ' ', ' ', ' ', ' ', ' ', ' ', ' '],\n",
    "            [' ', ' ', ' ', ' ', ' ', ' ', ' ', ' '],\n",
    "            [' ', ' ', ' ', ' ', ' ', ' ', ' ', ' '],\n",
    "            [' ', ' ', ' ', ' ', ' ', ' ', ' ', ' ']\n",
    "    ]\n",
    "\n",
    "\n",
    "\n",
    "def fieldPrint():\n",
    "    for i in range( len( field ) ):\n",
    "        row = len( field )-i\n",
    "        print( row, end=\"  \" )\n",
    "        for j in range( len( field[i] ) ):\n",
    "            print( \"\", field[i][j], end=\" \")\n",
    "            if ( j < len( field[i])-1 ):\n",
    "                print( \"!\", end=\"\" )\n",
    "        print()\n",
    "        if ( i < len( field )-1 ):\n",
    "            print(\"   ---+---+---+---+---+---+---+---\")\n",
    "    print()\n",
    "    print( \"    \", end=\"\" )\n",
    "    for i in range( len( field ) ):\n",
    "        print( chr(i+0x61), end=\"   \")          # 0x61 = ASCII code of 'a'\n",
    "    print()\n",
    "\n",
    "\n",
    "\n",
    "fieldPrint()\n",
    "\n",
    "i=0;\n",
    "while i<256:\n",
    "    i+=1\n",
    "    print( random.randint(0,63), end=\" \" )"
   ],
   "metadata": {},
   "execution_count": null,
   "outputs": []
  }
 ]
}
